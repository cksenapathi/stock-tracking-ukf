{
 "cells": [
  {
   "cell_type": "code",
   "execution_count": 16,
   "id": "2c69f632",
   "metadata": {},
   "outputs": [],
   "source": [
    "import numpy as np\n",
    "from model import Model\n",
    "from optimizer import Optimizer\n",
    "from ukf import UKF\n",
    "import tensorflow as tf\n",
    "from utils import gather_data, split_data, unzip, login\n",
    "import matplotlib.pyplot as plt\n",
    "from tda import calc_covars\n",
    "from wt_ukf import WeightUKF\n",
    "\n"
   ]
  },
  {
   "cell_type": "code",
   "execution_count": 9,
   "id": "de74d277",
   "metadata": {},
   "outputs": [],
   "source": [
    "x_test = np.load('x_test.npy')\n",
    "y_test = np.load('y_test.npy')\n",
    "\n",
    "x_train = np.load('x_train.npy')\n",
    "y_train = np.load('y_train.npy')\n",
    "\n",
    "x_val = np.load('x_val.npy')\n",
    "y_val = np.load('y_val.npy')"
   ]
  },
  {
   "cell_type": "code",
   "execution_count": 10,
   "id": "66bff981",
   "metadata": {},
   "outputs": [
    {
     "name": "stdout",
     "output_type": "stream",
     "text": [
      "(376, 4, 4)\n",
      "(376, 4)\n",
      "printed shapes\n"
     ]
    }
   ],
   "source": [
    "print(x_test.shape)\n",
    "print(y_test.shape)\n",
    "print('printed shapes')\n",
    "\n",
    "file1 = 'C:\\\\Users\\\\chinm\\\\PycharmProjects\\\\StockTracking\\\\open_model'\n",
    "# del file2, file3, file4\n",
    "# file2 = 'C:\\\\Users\\\\chinm\\\\PycharmProjects\\\\StockTracking\\\\high_model'\n",
    "# file3 = 'C:\\\\Users\\\\chinm\\\\PycharmProjects\\\\StockTracking\\\\low_model'\n",
    "# file4 = 'C:\\\\Users\\\\chinm\\\\PycharmProjects\\\\StockTracking\\\\close_model'\n",
    "\n",
    "model1 = Model(filepath=file1)\n",
    "# del model2, model3, model4\n",
    "# model2 = Model(filepath=file2)\n",
    "# model3 = Model(filepath=file3)\n",
    "# model4 = Model(filepath=file4)"
   ]
  },
  {
   "cell_type": "code",
   "execution_count": 19,
   "id": "20e9ba91",
   "metadata": {},
   "outputs": [
    {
     "name": "stdout",
     "output_type": "stream",
     "text": [
      "[[41.60255 43.80625 43.97    44.5625  46.295   46.2475  46.6375  46.935\n",
      "  47.3725  47.2525 ]\n",
      " [43.80625 43.97    44.5625  46.295   46.2475  46.6375  46.935   47.3725\n",
      "  47.2525  46.695  ]\n",
      " [43.97    44.5625  46.295   46.2475  46.6375  46.935   47.3725  47.2525\n",
      "  46.695   46.5175 ]\n",
      " [44.5625  46.295   46.2475  46.6375  46.935   47.3725  47.2525  46.695\n",
      "  46.5175  47.     ]]\n",
      "\n",
      "[45.46813  45.977375 46.2485   46.5515  ]\n",
      "\n",
      "[[3.59888665 2.35262587 1.83499915 1.24613235]\n",
      " [2.35262587 1.81768627 1.34032757 0.78736097]\n",
      " [1.83499915 1.34032757 1.24467111 0.74449278]\n",
      " [1.24613235 0.78736097 0.74449278 0.62857111]]\n"
     ]
    }
   ],
   "source": [
    "print(x_test[0:10, 0, :].T)\n",
    "print()\n",
    "print(np.mean(x_test[0:10, 0, :], axis=0))\n",
    "print()\n",
    "print(np.cov(x_test[0:10, 0, :].T))"
   ]
  },
  {
   "cell_type": "code",
   "execution_count": 20,
   "id": "8cfbe220",
   "metadata": {},
   "outputs": [
    {
     "name": "stdout",
     "output_type": "stream",
     "text": [
      "size 139\n",
      "sigma shape in output (69, 139)\n",
      "output -2912.11376953125\n",
      "output 1254.6527099609375\n",
      "output 851.2373657226562\n",
      "output -22.67884063720703\n",
      "output -1969.0694580078125\n",
      "output -152.8506622314453\n",
      "output 2198.986572265625\n",
      "output -235.92666625976562\n",
      "output -100.86367797851562\n",
      "output 1973.526611328125\n",
      "output -11.22286605834961\n",
      "output 48.55315399169922\n",
      "output -141.33505249023438\n",
      "output -1685.86474609375\n",
      "output 1148.8380126953125\n",
      "output 400.96661376953125\n",
      "output -0.04623766988515854\n",
      "output 0.06366699188947678\n",
      "output -0.016150619834661484\n",
      "output -0.0403955839574337\n",
      "output 145.95458984375\n",
      "output -87.77114868164062\n",
      "output 288.5018005371094\n",
      "output 2023.39208984375\n",
      "output -734.4599609375\n",
      "output -1657.8880615234375\n",
      "output 944.6751708984375\n",
      "output -389.21160888671875\n",
      "output 2019.9097900390625\n",
      "output 0.1984446495771408\n",
      "output 34.789058685302734\n",
      "output -0.46385741233825684\n",
      "output -46.70555114746094\n",
      "output 983.9542846679688\n",
      "output -2.3407905101776123\n",
      "output 898.1317138671875\n",
      "output -122.96649169921875\n",
      "output -844.0346069335938\n",
      "output 0.37794673442840576\n",
      "output 1610.968505859375\n",
      "output 246.7630615234375\n",
      "output 935.2832641601562\n",
      "output 513.3067626953125\n",
      "output -275.11212158203125\n",
      "output -621.5889892578125\n",
      "output 1495.1793212890625\n",
      "output 701.474853515625\n",
      "output -48.11363983154297\n",
      "output -337.46649169921875\n",
      "output -6.024908542633057\n",
      "output -1836.1121826171875\n",
      "output 208.15875244140625\n",
      "output 0.03184978663921356\n",
      "output -0.04345019906759262\n",
      "output -0.05487580969929695\n",
      "output -0.04255080968141556\n",
      "output 0.04765826091170311\n",
      "output 0.0506473183631897\n",
      "output 0.045943547040224075\n",
      "output 0.05082133412361145\n",
      "output 0.013897571712732315\n",
      "output -87.37552642822266\n",
      "output -0.3575335443019867\n",
      "output -1837.113037109375\n",
      "output 247.87693786621094\n",
      "output 5.90511417388916\n",
      "output 706.598388671875\n",
      "output 45.84033203125\n",
      "output 0.046327486634254456\n",
      "outputs: (139,) mean weights: (139,) m_noise: ()\n",
      "outputs: (1, 139) mean weights: (139,) m_covar: ()\n",
      "(1, 139)\n",
      "output covar [[466647.91269527]]\n"
     ]
    },
    {
     "ename": "ValueError",
     "evalue": "Input 0 of layer sequential_36 is incompatible with the layer: : expected min_ndim=2, found ndim=1. Full shape received: (9,)",
     "output_type": "error",
     "traceback": [
      "\u001b[1;31m---------------------------------------------------------------------------\u001b[0m",
      "\u001b[1;31mValueError\u001b[0m                                Traceback (most recent call last)",
      "\u001b[1;32m<ipython-input-20-1ac82f2bce69>\u001b[0m in \u001b[0;36m<module>\u001b[1;34m\u001b[0m\n\u001b[0;32m     29\u001b[0m \u001b[1;33m\u001b[0m\u001b[0m\n\u001b[0;32m     30\u001b[0m     \u001b[1;31m# Calculating the output sigma points for the predicted gradient\u001b[0m\u001b[1;33m\u001b[0m\u001b[1;33m\u001b[0m\u001b[1;33m\u001b[0m\u001b[0m\n\u001b[1;32m---> 31\u001b[1;33m     pred_grad_sigma, pred_grad_mean, pred_grad_cov = wt_ukf.output_state(price_sigma,\n\u001b[0m\u001b[0;32m     32\u001b[0m                                                                          \u001b[0mpred_price_mean\u001b[0m\u001b[1;33m,\u001b[0m\u001b[1;33m\u001b[0m\u001b[1;33m\u001b[0m\u001b[0m\n\u001b[0;32m     33\u001b[0m                                                                          \u001b[0mprice_mean_wts\u001b[0m\u001b[1;33m,\u001b[0m\u001b[1;33m\u001b[0m\u001b[1;33m\u001b[0m\u001b[0m\n",
      "\u001b[1;32m~\\PycharmProjects\\StockTracking\\wt_ukf.py\u001b[0m in \u001b[0;36moutput_state\u001b[1;34m(self, input_sigma, pred_price_mean, mean_weights, cov_weights)\u001b[0m\n\u001b[0;32m     65\u001b[0m         \u001b[1;31m# to do the state transition is to get the mean and covariance\u001b[0m\u001b[1;33m\u001b[0m\u001b[1;33m\u001b[0m\u001b[1;33m\u001b[0m\u001b[0m\n\u001b[0;32m     66\u001b[0m         \u001b[1;32mfor\u001b[0m \u001b[0mi\u001b[0m \u001b[1;32min\u001b[0m \u001b[0minput_sigma\u001b[0m\u001b[1;33m:\u001b[0m\u001b[1;33m\u001b[0m\u001b[1;33m\u001b[0m\u001b[0m\n\u001b[1;32m---> 67\u001b[1;33m             grad = self.output.simple_grad(model=self.state_shift, pred=self.state_shift.predict(i),\n\u001b[0m\u001b[0;32m     68\u001b[0m                                            target=pred_price_mean)[1]\n\u001b[0;32m     69\u001b[0m             \u001b[0mgrad_sigma\u001b[0m \u001b[1;33m=\u001b[0m \u001b[0mnp\u001b[0m\u001b[1;33m.\u001b[0m\u001b[0mappend\u001b[0m\u001b[1;33m(\u001b[0m\u001b[0mgrad_sigma\u001b[0m\u001b[1;33m,\u001b[0m \u001b[0mgrad\u001b[0m\u001b[1;33m)\u001b[0m\u001b[1;33m\u001b[0m\u001b[1;33m\u001b[0m\u001b[0m\n",
      "\u001b[1;32m~\\PycharmProjects\\StockTracking\\model.py\u001b[0m in \u001b[0;36mpredict\u001b[1;34m(self, x, training)\u001b[0m\n\u001b[0;32m     21\u001b[0m \u001b[1;33m\u001b[0m\u001b[0m\n\u001b[0;32m     22\u001b[0m     \u001b[1;32mdef\u001b[0m \u001b[0mpredict\u001b[0m\u001b[1;33m(\u001b[0m\u001b[0mself\u001b[0m\u001b[1;33m,\u001b[0m \u001b[0mx\u001b[0m\u001b[1;33m,\u001b[0m \u001b[0mtraining\u001b[0m\u001b[1;33m=\u001b[0m\u001b[1;32mFalse\u001b[0m\u001b[1;33m)\u001b[0m\u001b[1;33m:\u001b[0m\u001b[1;33m\u001b[0m\u001b[1;33m\u001b[0m\u001b[0m\n\u001b[1;32m---> 23\u001b[1;33m         \u001b[1;32mreturn\u001b[0m \u001b[0mself\u001b[0m\u001b[1;33m.\u001b[0m\u001b[0mmodel\u001b[0m\u001b[1;33m(\u001b[0m\u001b[0mx\u001b[0m\u001b[1;33m,\u001b[0m \u001b[0mtraining\u001b[0m\u001b[1;33m=\u001b[0m\u001b[0mtraining\u001b[0m\u001b[1;33m)\u001b[0m\u001b[1;33m\u001b[0m\u001b[1;33m\u001b[0m\u001b[0m\n\u001b[0m\u001b[0;32m     24\u001b[0m \u001b[1;33m\u001b[0m\u001b[0m\n\u001b[0;32m     25\u001b[0m     \u001b[1;32mdef\u001b[0m \u001b[0mget_trainable_variables\u001b[0m\u001b[1;33m(\u001b[0m\u001b[0mself\u001b[0m\u001b[1;33m)\u001b[0m\u001b[1;33m:\u001b[0m\u001b[1;33m\u001b[0m\u001b[1;33m\u001b[0m\u001b[0m\n",
      "\u001b[1;32mc:\\users\\chinm\\pycharmprojects\\stocktracking\\venv\\lib\\site-packages\\tensorflow\\python\\keras\\engine\\base_layer.py\u001b[0m in \u001b[0;36m__call__\u001b[1;34m(self, *args, **kwargs)\u001b[0m\n\u001b[0;32m   1011\u001b[0m         training=training_mode):\n\u001b[0;32m   1012\u001b[0m \u001b[1;33m\u001b[0m\u001b[0m\n\u001b[1;32m-> 1013\u001b[1;33m       \u001b[0minput_spec\u001b[0m\u001b[1;33m.\u001b[0m\u001b[0massert_input_compatibility\u001b[0m\u001b[1;33m(\u001b[0m\u001b[0mself\u001b[0m\u001b[1;33m.\u001b[0m\u001b[0minput_spec\u001b[0m\u001b[1;33m,\u001b[0m \u001b[0minputs\u001b[0m\u001b[1;33m,\u001b[0m \u001b[0mself\u001b[0m\u001b[1;33m.\u001b[0m\u001b[0mname\u001b[0m\u001b[1;33m)\u001b[0m\u001b[1;33m\u001b[0m\u001b[1;33m\u001b[0m\u001b[0m\n\u001b[0m\u001b[0;32m   1014\u001b[0m       \u001b[1;32mif\u001b[0m \u001b[0meager\u001b[0m\u001b[1;33m:\u001b[0m\u001b[1;33m\u001b[0m\u001b[1;33m\u001b[0m\u001b[0m\n\u001b[0;32m   1015\u001b[0m         \u001b[0mcall_fn\u001b[0m \u001b[1;33m=\u001b[0m \u001b[0mself\u001b[0m\u001b[1;33m.\u001b[0m\u001b[0mcall\u001b[0m\u001b[1;33m\u001b[0m\u001b[1;33m\u001b[0m\u001b[0m\n",
      "\u001b[1;32mc:\\users\\chinm\\pycharmprojects\\stocktracking\\venv\\lib\\site-packages\\tensorflow\\python\\keras\\engine\\input_spec.py\u001b[0m in \u001b[0;36massert_input_compatibility\u001b[1;34m(input_spec, inputs, layer_name)\u001b[0m\n\u001b[0;32m    228\u001b[0m       \u001b[0mndim\u001b[0m \u001b[1;33m=\u001b[0m \u001b[0mx\u001b[0m\u001b[1;33m.\u001b[0m\u001b[0mshape\u001b[0m\u001b[1;33m.\u001b[0m\u001b[0mrank\u001b[0m\u001b[1;33m\u001b[0m\u001b[1;33m\u001b[0m\u001b[0m\n\u001b[0;32m    229\u001b[0m       \u001b[1;32mif\u001b[0m \u001b[0mndim\u001b[0m \u001b[1;32mis\u001b[0m \u001b[1;32mnot\u001b[0m \u001b[1;32mNone\u001b[0m \u001b[1;32mand\u001b[0m \u001b[0mndim\u001b[0m \u001b[1;33m<\u001b[0m \u001b[0mspec\u001b[0m\u001b[1;33m.\u001b[0m\u001b[0mmin_ndim\u001b[0m\u001b[1;33m:\u001b[0m\u001b[1;33m\u001b[0m\u001b[1;33m\u001b[0m\u001b[0m\n\u001b[1;32m--> 230\u001b[1;33m         raise ValueError('Input ' + str(input_index) + ' of layer ' +\n\u001b[0m\u001b[0;32m    231\u001b[0m                          \u001b[0mlayer_name\u001b[0m \u001b[1;33m+\u001b[0m \u001b[1;34m' is incompatible with the layer: '\u001b[0m\u001b[1;33m\u001b[0m\u001b[1;33m\u001b[0m\u001b[0m\n\u001b[0;32m    232\u001b[0m                          \u001b[1;34m': expected min_ndim='\u001b[0m \u001b[1;33m+\u001b[0m \u001b[0mstr\u001b[0m\u001b[1;33m(\u001b[0m\u001b[0mspec\u001b[0m\u001b[1;33m.\u001b[0m\u001b[0mmin_ndim\u001b[0m\u001b[1;33m)\u001b[0m \u001b[1;33m+\u001b[0m\u001b[1;33m\u001b[0m\u001b[1;33m\u001b[0m\u001b[0m\n",
      "\u001b[1;31mValueError\u001b[0m: Input 0 of layer sequential_36 is incompatible with the layer: : expected min_ndim=2, found ndim=1. Full shape received: (9,)"
     ]
    }
   ],
   "source": [
    "opt = Optimizer()\n",
    "history = 10\n",
    "wt_data, grad_data, err_data = calc_covars(model1, opt, x_test[:, 0, :], y_test[:, 0], history)\n",
    "price_data = y_train[-10:, 0]\n",
    "lr = .001\n",
    "values = np.zeros(len(x_test))\n",
    "wts, shapes = model1.get_weight_state()\n",
    "values[0:4] = x_test[0, 0, :]\n",
    "price_ukf = UKF(mean=np.mean(wt_data, axis=1), covariance=np.cov(wt_data), model=model1, shapes=shapes)\n",
    "wt_ukf = WeightUKF(mean=np.mean(x_test[0:10, 0, :], axis=0), cov=np.cov(x_test[0:10, 0, :].T), \n",
    "                   transition_model=model1, output_grad=opt)\n",
    "# Calculating starting sigma points for the price and the grads\n",
    "param_sigma, param_mean_wts, param_cov_wts = price_ukf.calc_sigma_points(\n",
    "        mean=np.mean(wt_data, axis=1), \n",
    "        cov=np.cov(wt_data))\n",
    "    \n",
    "price_sigma, price_mean_wts, price_cov_wts = wt_ukf.calc_sigma_points(mean=wt_ukf.mean,\n",
    "                                                                          cov=wt_ukf.cov)\n",
    "for i in range(4, len(x_test)):\n",
    "    input_ = np.array([values[i-4:i]]) \n",
    "    # Calculating the output sigma points for the predicted price\n",
    "    pred_price_sigma, pred_price_mean, pred_price_cov = price_ukf.output(input_, param_sigma, \n",
    "                                                                         param_mean_wts,\n",
    "                                                                         param_cov_wts,\n",
    "                                                                         np.mean(err_data),\n",
    "                                                                         np.cov(err_data))\n",
    "    # Should the input to the price ukf output be the market prices, because I'll always have the \n",
    "    # last 4 market prices; I think this would be ideal, as that is what the nn is trained on\n",
    "    \n",
    "    # Calculating the output sigma points for the predicted gradient\n",
    "    pred_grad_sigma, pred_grad_mean, pred_grad_cov = wt_ukf.output_state(price_sigma,\n",
    "                                                                         pred_price_mean,\n",
    "                                                                         price_mean_wts,\n",
    "                                                                         price_cov_wts)\n",
    "    # Getting the real value that is used to update both \n",
    "    measured_price = y_test[i, 0]\n",
    "    \n",
    "    # Updating the price ukf\n",
    "    wts, _ = price_ukf.update(measured_price, param_sigma, param_mean_wts, param_cov_wts, pred_price_sigma,\n",
    "                     pred_price_mean, pred_price_cov)\n",
    "    \n",
    "    # Updating the weight ukf\n",
    "    wt_ukf.state_shift.set_weights(shapes, wts)\n",
    "    grad = wt_ukf.update_wt(measured_price, price_sigma, price_mean_wts, price_cov_wts,\n",
    "                     pred_grad_sigma, pred_grad_mean, pred_grad_cov)\n",
    "    \n",
    "    # Changing all the historical data used for covariances\n",
    "    grad_data = np.append(grad_data, grad, axis=1)[:, 1:]\n",
    "    err_data = np.append(err_data, pred_price_mean - measured_price)[1:]\n",
    "    price_data = np.append(price_data, measured_price)[1:]\n",
    "    wt_data = np.append(wt_data, wts, axis=1)[:, 1:]\n",
    "    \n",
    "    # Recalculate state sigma points\n",
    "    param_sigma, param_mean_wts, param_cov_wts = price_ukf.calc_sigma_points(\n",
    "        mean=np.mean(wt_data, axis=1), \n",
    "        cov=np.cov(wt_data))\n",
    "    \n",
    "    price_sigma, price_mean_wts, price_cov_wts = wt_ukf.calc_sigma_points(mean=price_data[-4:],\n",
    "                                                                          cov=wt_ukf.cov)\n",
    "    \n",
    "    # Transition state variables\n",
    "    param_sigma = price_ukf.state_transition(param_sigma, param_mean_wts, param_cov_wts,\n",
    "                                             grad, np.cov(lr * grad_data), opt)[0]\n",
    "    \n",
    "    price_sigma = wt_ukf.transition_state(price_ukf.mean, price_ukf.shapes, price_sigma, price_mean_wts, \n",
    "                            price_cov_wts, np.mean(err_data), np.cov(err_data))[0]\n",
    "    \n",
    "    \n",
    "    \n",
    "    \n",
    "    # During price ukf state transition, process noise and cov must be scaled by learning rate \n",
    "    \n",
    "    \n",
    "# A dual UKF is based on there being a prediction on the weights as well, which my prediction\n",
    "# is just taking the mean of the last 10 weights. my real is going to be actually taking the\n",
    "# and applying the gradient based on the real value. the question is then how do we calculate a kalman\n",
    "# gain to find the 'real' value. the kalman gain is based on the cross covariance of the grad predictions\n",
    "# and the covariance of the outputs \n",
    "# In that case, we hold the input data constant and then calculate sigma points of the model weights\n",
    "# In this case, we hold the weights constand and calc sigma points of the input data, and then the \n",
    "# grads are the different outputs that we calculate, and then we update based on the grad of the real\n",
    "# and then update with the grad calculated from the real output and the real grad\n",
    "# w"
   ]
  },
  {
   "cell_type": "code",
   "execution_count": 40,
   "id": "a9c28498",
   "metadata": {
    "scrolled": true
   },
   "outputs": [
    {
     "name": "stdout",
     "output_type": "stream",
     "text": [
      "Model: \"sequential_30\"\n",
      "_________________________________________________________________\n",
      "Layer (type)                 Output Shape              Param #   \n",
      "=================================================================\n",
      "dense_64 (Dense)             (None, 4)                 20        \n",
      "_________________________________________________________________\n",
      "dense_65 (Dense)             (None, 4)                 20        \n",
      "_________________________________________________________________\n",
      "dense_66 (Dense)             (None, 1)                 5         \n",
      "=================================================================\n",
      "Total params: 45\n",
      "Trainable params: 45\n",
      "Non-trainable params: 0\n",
      "_________________________________________________________________\n"
     ]
    },
    {
     "data": {
      "image/png": "[encoded data removed]",
      "text/plain": [
       "<Figure size 432x288 with 1 Axes>"
      ]
     },
     "metadata": {
      "needs_background": "light"
     },
     "output_type": "display_data"
    }
   ],
   "source": [
    "from tensorflow.keras.models import Sequential\n",
    "from tensorflow.keras.layers import Dense\n",
    "from tensorflow.keras.optimizers import Adam\n",
    "from tensorflow.keras.losses import MeanSquaredError\n",
    "\n",
    "opt1 = Optimizer()\n",
    "model = Sequential()\n",
    "model.add(Dense(4))\n",
    "model.add(Dense(4))\n",
    "model.add(Dense(1))\n",
    "model.compile(optimizer='adam', loss='mse')\n",
    "\n",
    "for _ in range(3):\n",
    "    predictions = np.zeros(len(x_train))\n",
    "    predictions[0:4] = y_train[0:4, 0]\n",
    "    for i in range(4, len(y_train)):\n",
    "        model.fit(np.array([predictions[i-4:i]]), np.array([y_train[i, 0]]), verbose=0)\n",
    "# model.compile(optimizer=Adam(learning_rate=.0001), \n",
    "#               loss=MeanSquaredError(), metrics=['mean_squared_error'])\n",
    "# model.fit(x_train[:, 0, :], y_train[:, 0], batch_size=1, epochs=3)\n",
    "# model.evaluate(x_test[:, 0, :], y_test[:, 0], batch_size=1)\n",
    "model.summary()\n",
    "# print(model.get_trainable_variables())\n",
    "predictions = np.zeros(len(x_val))\n",
    "pred2 = np.zeros(len(x_val))\n",
    "predictions[0:4] = y_val[0:4, 0]\n",
    "pred2[0:4] = y_val[0:4, 0]\n",
    "for i in range(4, len(x_val)):\n",
    "    predictions[i] = model.predict(np.array([predictions[i-4:i]]))\n",
    "    pred2[i] = model.predict(np.array([y_val[i-4:i]]))\n",
    "plt.plot(y_test[:, 0], label='real')\n",
    "plt.plot(predictions, label='prediction')\n",
    "plt.plot(pred2, label='val predictions')\n",
    "plt.legend()\n",
    "plt.show()\n"
   ]
  },
  {
   "cell_type": "code",
   "execution_count": 50,
   "id": "4fd2c7d1",
   "metadata": {},
   "outputs": [
    {
     "data": {
      "image/png": "[encoded data removed]",
      "text/plain": [
       "<Figure size 432x288 with 1 Axes>"
      ]
     },
     "metadata": {
      "needs_background": "light"
     },
     "output_type": "display_data"
    }
   ],
   "source": [
    "predictions = np.zeros(len(x_val))\n",
    "pred2 = np.zeros(len(x_val))\n",
    "predictions[0:4] = y_val[0:4, 0]\n",
    "pred2[0:4] = x_val[0, 0, :]\n",
    "for i in range(4, len(x_val)):\n",
    "#     predictions[i] = model.predict(np.array([predictions[i-4:i]]))\n",
    "    pred2[i] = model.predict(np.array([y_val[i-4:i, 0]]))\n",
    "plt.plot(y_test[:, 0], label='real')\n",
    "# plt.plot(predictions, label='prediction')\n",
    "plt.plot(pred2, label='val predictions')\n",
    "plt.legend()\n",
    "plt.show()\n"
   ]
  },
  {
   "cell_type": "code",
   "execution_count": 46,
   "id": "f625a9ce",
   "metadata": {},
   "outputs": [
    {
     "data": {
      "image/png": "[encoded data removed]",
      "text/plain": [
       "<Figure size 432x288 with 1 Axes>"
      ]
     },
     "metadata": {
      "needs_background": "light"
     },
     "output_type": "display_data"
    }
   ],
   "source": [
    "plt.cla()\n",
    "plt.plot(y_test[:2, 0], label='real')\n",
    "plt.plot(predictions[:2], label='prediction')\n",
    "plt.show()"
   ]
  },
  {
   "cell_type": "code",
   "execution_count": 15,
   "id": "1100eafa",
   "metadata": {},
   "outputs": [
    {
     "data": {
      "image/png": "[encoded data removed]",
      "text/plain": [
       "<Figure size 432x288 with 1 Axes>"
      ]
     },
     "metadata": {
      "needs_background": "light"
     },
     "output_type": "display_data"
    }
   ],
   "source": [
    "predictions = np.zeros(len(x_val))\n",
    "predictions[0:4] = y_val[0:4, 0]\n",
    "for i in range(4, len(x_val)):\n",
    "    predictions[i] = model(np.array([predictions[i-4:i]]))\n",
    "plt.cla()\n",
    "plt.plot(y_val[:, 0])\n",
    "plt.plot(predictions)\n",
    "# plt.plot(model(x_val[:, 0]))\n",
    "plt.show()"
   ]
  }
 ],
 "metadata": {
  "kernelspec": {
   "display_name": "Python 3",
   "language": "python",
   "name": "python3"
  },
  "language_info": {
   "codemirror_mode": {
    "name": "ipython",
    "version": 3
   },
   "file_extension": ".py",
   "mimetype": "text/x-python",
   "name": "python",
   "nbconvert_exporter": "python",
   "pygments_lexer": "ipython3",
   "version": "3.9.4"
  }
 },
 "nbformat": 4,
 "nbformat_minor": 5
}
